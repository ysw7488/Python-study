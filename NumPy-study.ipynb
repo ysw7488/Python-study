{
 "cells": [
  {
   "cell_type": "code",
   "execution_count": 7,
   "id": "1a9dffef-9bcc-4cbc-baee-9f4a4170e532",
   "metadata": {},
   "outputs": [],
   "source": [
    "import numpy as np"
   ]
  },
  {
   "cell_type": "code",
   "execution_count": 8,
   "id": "0ea3c161-edbc-4659-9ffa-eb8c891c1e57",
   "metadata": {},
   "outputs": [],
   "source": [
    "import numpy as np"
   ]
  },
  {
   "cell_type": "code",
   "execution_count": 9,
   "id": "9cea495e-05fc-4604-a41f-1079a3c2801c",
   "metadata": {},
   "outputs": [
    {
     "data": {
      "text/plain": [
       "array([0, 1, 2, 3, 4])"
      ]
     },
     "execution_count": 9,
     "metadata": {},
     "output_type": "execute_result"
    }
   ],
   "source": [
    "a"
   ]
  },
  {
   "cell_type": "code",
   "execution_count": 10,
   "id": "e71d73de-9562-423d-8e4a-75425ebd90e5",
   "metadata": {},
   "outputs": [
    {
     "name": "stdout",
     "output_type": "stream",
     "text": [
      "[0 1 2 3 4]\n",
      "[5 4 3 2 1]\n"
     ]
    },
    {
     "data": {
      "text/plain": [
       "array([5, 4, 3, 2, 1])"
      ]
     },
     "execution_count": 10,
     "metadata": {},
     "output_type": "execute_result"
    }
   ],
   "source": [
    "a = np.array([_ for _ in range(5)])\n",
    "b = np.array([_ for _ in range(5, 0, -1)])\n",
    "print(a)\n",
    "print(b)\n",
    "a\n",
    "b"
   ]
  },
  {
   "cell_type": "code",
   "execution_count": 11,
   "id": "77131d01-e4af-43a7-8544-ab879510831f",
   "metadata": {},
   "outputs": [
    {
     "name": "stdout",
     "output_type": "stream",
     "text": [
      "[0 1 2 3 4]\n",
      "object type: <class 'numpy.ndarray'>\n",
      "  data type: int32\n",
      "      shape: (5,)\n",
      "  dimension: 1\n",
      " array size: 5\n"
     ]
    }
   ],
   "source": [
    "print(f'{a}\\n{\"object type:\":>12} {type(a)}\\n{\"data type:\":>12} {a.dtype}\\n{\"shape:\":>12} \\\n",
    "{a.shape}\\n{\"dimension:\":>12} {a.ndim}\\n{\"array size:\":>12} {a.size}')"
   ]
  },
  {
   "cell_type": "code",
   "execution_count": 12,
   "id": "3f096f69-df4a-428c-851c-061345aea07c",
   "metadata": {},
   "outputs": [
    {
     "name": "stdout",
     "output_type": "stream",
     "text": [
      "[[[ 1  2  3  4  5]\n",
      "  [ 8  9 10 11 12]]\n",
      "\n",
      " [[ 4  5  6  7  8]\n",
      "  [10 11 12 13 14]]]\n",
      "object type: <class 'numpy.ndarray'>\n",
      "  data type: int32\n",
      "      shape: (2, 2, 5)\n",
      "  dimension: 3\n",
      " array size: 20\n"
     ]
    }
   ],
   "source": [
    "b = np.array([[[1, 2, 3, 4, 5], [8, 9, 10, 11, 12]], [[4, 5, 6, 7, 8], [10, 11, 12, 13, 14]]])\n",
    "\n",
    "print(f'{b}\\n{\"object type:\":>12} {type(b)}\\n{\"data type:\":>12} {b.dtype}\\n{\"shape:\":>12} \\\n",
    "{b.shape}\\n{\"dimension:\":>12} {b.ndim}\\n{\"array size:\":>12} {b.size}')"
   ]
  },
  {
   "cell_type": "code",
   "execution_count": 13,
   "id": "9dec30c0-5244-414f-a0a5-0331be9dbfaf",
   "metadata": {},
   "outputs": [
    {
     "name": "stdout",
     "output_type": "stream",
     "text": [
      "[[[ 1.  2.  3.  4.  5.]\n",
      "  [ 8.  9. 10. 11. 12.]]\n",
      "\n",
      " [[ 4.  5.  6.  7.  8.]\n",
      "  [10. 11. 12. 13. 14.]]]\n",
      "object type: <class 'numpy.ndarray'>\n",
      "  data type: float64\n",
      "      shape: (2, 2, 5)\n",
      "  dimension: 3\n",
      " array size: 20\n"
     ]
    }
   ],
   "source": [
    "c = np.array([[[1.0, 2, 3, 4, 5], [8.0, 9, 10, 11, 12]], [[4.0, 5, 6, 7, 8], [10.0, 11, 12, 13, 14]]])\n",
    "\n",
    "print(f'{c}\\n{\"object type:\":>12} {type(c)}\\n{\"data type:\":>12} {c.dtype}\\n{\"shape:\":>12} \\\n",
    "{c.shape}\\n{\"dimension:\":>12} {c.ndim}\\n{\"array size:\":>12} {c.size}')"
   ]
  },
  {
   "cell_type": "code",
   "execution_count": 15,
   "id": "072fe0a6-b26b-4f04-bc21-95b395e6e461",
   "metadata": {},
   "outputs": [
    {
     "name": "stdout",
     "output_type": "stream",
     "text": [
      "[[[ 1.  2.  3.  4.  5.]\n",
      "  [ 8.  9. 10. 11. 12.]]\n",
      "\n",
      " [[ 4.  5.  6.  7.  8.]\n",
      "  [10. 11. 12. 13. 14.]]]\n",
      "object type: <class 'numpy.ndarray'>\n",
      "  data type: float64\n",
      "      shape:(2, 2, 5)\n",
      "  dimension: 3\n",
      " array size: 20\n"
     ]
    }
   ],
   "source": [
    "c = np.array([[[1.0, 2, 3, 4, 5], [8.0, 9, 10, 11, 12]], [[4.0, 5, 6, 7, 8], [10.0, 11, 12, 13, 14]]])\n",
    "\n",
    "print(f'{c}\\n{\"object type:\":>12} {type(c)}\\n{\"data type:\":>12} {c.dtype}\\n{\"shape:\":>12}\\\n",
    "{c.shape}\\n{\"dimension:\":>12} {c.ndim}\\n{\"array size:\":>12} {c.size}')"
   ]
  },
  {
   "cell_type": "code",
   "execution_count": 16,
   "id": "44ea2b48-f6ab-477b-8da3-d294312b867d",
   "metadata": {},
   "outputs": [
    {
     "name": "stdout",
     "output_type": "stream",
     "text": [
      "[5 7 9]\n",
      "[ 5 10 15]\n",
      "[ 4 10 18]\n",
      "[5. 4. 3.]\n"
     ]
    }
   ],
   "source": [
    "a = np.array([1, 2, 3])\n",
    "b = np.array([4, 5, 6])\n",
    "c = a + b\n",
    "print(c)\n",
    "\n",
    "d = np.array([10, 20, 30])\n",
    "e = np.array([5, 10, 15])\n",
    "f = d - e\n",
    "print(f)\n",
    "\n",
    "g = np.array([1, 2, 3])\n",
    "h = np.array([4, 5, 6])\n",
    "i = g * h\n",
    "print(i)\n",
    "\n",
    "j = np.array([10, 20, 30])\n",
    "k = np.array([2, 5, 10])\n",
    "l = j / k\n",
    "print(l)"
   ]
  },
  {
   "cell_type": "code",
   "execution_count": null,
   "id": "690a8989-269b-4502-8b57-dae33c039698",
   "metadata": {},
   "outputs": [],
   "source": []
  }
 ],
 "metadata": {
  "kernelspec": {
   "display_name": "Python 3 (ipykernel)",
   "language": "python",
   "name": "python3"
  },
  "language_info": {
   "codemirror_mode": {
    "name": "ipython",
    "version": 3
   },
   "file_extension": ".py",
   "mimetype": "text/x-python",
   "name": "python",
   "nbconvert_exporter": "python",
   "pygments_lexer": "ipython3",
   "version": "3.9.13"
  }
 },
 "nbformat": 4,
 "nbformat_minor": 5
}
